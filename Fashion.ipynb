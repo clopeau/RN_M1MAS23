{
  "cells": [
    {
      "cell_type": "markdown",
      "id": "89e36272-27e6-4a38-bf87-b21c8eca5276",
      "metadata": {
        "id": "89e36272-27e6-4a38-bf87-b21c8eca5276"
      },
      "source": [
        "<h1>Fashion MNIST</h1>\n",
        "\n",
        "Zalando à mis à disposition est un ensemble de données d'images d'articles, composé 60 000 exemples. \n",
        "\n",
        "Chaque exemple est une image en niveaux de gris 28x28.\n",
        "\n",
        "![](https://miro.medium.com/max/1400/1*RNBs0OsymwAzDyYMk3_0Aw.jpeg)\n",
        "\n",
        "\n",
        "\n",
        "## Préambule : les données\n",
        "\n",
        "Les données sont disponible : https://github.com/zalandoresearch/fashion-mnist\n",
        "\n",
        "Il est possible de directement importer les datas sous Keras comme ceci."
      ]
    },
    {
      "cell_type": "code",
      "source": [
        "from keras.datasets import fashion_mnist\n",
        "# load dataset\n",
        "(trainX, trainy), (testX, testy) = fashion_mnist.load_data()"
      ],
      "metadata": {
        "id": "N6tsi-lBwg1q"
      },
      "id": "N6tsi-lBwg1q",
      "execution_count": null,
      "outputs": []
    },
    {
      "cell_type": "markdown",
      "id": "e627ec64-eaca-463a-87bc-5aab46d5b90e",
      "metadata": {
        "id": "e627ec64-eaca-463a-87bc-5aab46d5b90e"
      },
      "source": [
        "## Partie 1 - Analyse des données\n",
        "\n",
        "* Compter le nombre de classes et le nombre d'images par classe.\n",
        "* Importer les images (avec leur classe), on pourra au choix garder des tableaux 28x28 ou 784 (x1).\n",
        "* Représenter les 10 premières images avec leur nom de classe en titre.\n",
        "* On considérant chaque image comme un vecteur de taille 784, représenter en nuage de points les différentes classes dans le syteme d'axe :\n",
        "    * Les 2 premieres composantes issues de l'analyse en composante principales (ACP)\n",
        "    * Les 2 premiers axes donnés par l'analyse linéaire discriminante (ALD)\n",
        "* Représenter en diagramme de paire (dit \"pairplot\") le nuage de points suivant les 3 axes:\n",
        "    * Les 3 premieres composantes de l'ACP.\n",
        "    * Les 3 premiers axes de l'ALD."
      ]
    },
    {
      "cell_type": "markdown",
      "id": "810c53f1-6170-4f0c-a6f0-aae7f6a5f1e4",
      "metadata": {
        "id": "810c53f1-6170-4f0c-a6f0-aae7f6a5f1e4"
      },
      "source": [
        " \n",
        "   \n",
        "   \n",
        "**Conseil : mettez au point votre code avec par exemple seulement 1000 images et en dernier lieu avec la totalité**"
      ]
    },
    {
      "cell_type": "markdown",
      "id": "ca1ac03d-fd63-4845-924a-6c5b16749aa3",
      "metadata": {
        "id": "ca1ac03d-fd63-4845-924a-6c5b16749aa3"
      },
      "source": [
        "## Partie 2 - Classification par Réseau Dense\n",
        "\n",
        "* Proposer une modèle avec 2 couches cachées (éviter le sur-apprentissage !)\n",
        "* Tracer les courbes d'évolution de la fonction Loss ainsi que de l'accuracy du modèle lors des itérations.\n",
        "* Afficher ou tracer la matrice de confusion obtenue.\n",
        "* Représenter tout (ou partie si >10) des cas de mauvaise prédiction, avec classe prédite et classe exacte en titre."
      ]
    },
    {
      "cell_type": "markdown",
      "id": "c9b60317-480e-4787-83ab-897613ab009c",
      "metadata": {
        "id": "c9b60317-480e-4787-83ab-897613ab009c"
      },
      "source": [
        "## Partie 3 - Classification par réseau neuronal convolutif (CNN)\n",
        "\n",
        "\n",
        "* Proposer une modèle dit réseau neuronal convolutif (toujours éviter le sur-apprentissage !)\n",
        "* Tracer les courbes d'évolution de la fonction Loss ainsi que de l'accuracy du modèle lors des itérations.\n",
        "* Afficher ou tracer la matrice de confusion obtenue.\n",
        "* Représenter tout (ou partie si >10) des cas de mauvaise prédiction, avec classe prédite et classe exacte en titre."
      ]
    },
    {
      "cell_type": "markdown",
      "id": "2c9fc033-f1a4-4b64-a5da-0ad069f6f3a7",
      "metadata": {
        "id": "2c9fc033-f1a4-4b64-a5da-0ad069f6f3a7"
      },
      "source": [
        "## Partie 4\n",
        "\n",
        "Analyser et conclure."
      ]
    }
  ],
  "metadata": {
    "kernelspec": {
      "display_name": "Python 3 (ipykernel)",
      "language": "python",
      "name": "python3"
    },
    "language_info": {
      "codemirror_mode": {
        "name": "ipython",
        "version": 3
      },
      "file_extension": ".py",
      "mimetype": "text/x-python",
      "name": "python",
      "nbconvert_exporter": "python",
      "pygments_lexer": "ipython3",
      "version": "3.8.7"
    },
    "colab": {
      "provenance": []
    }
  },
  "nbformat": 4,
  "nbformat_minor": 5
}
